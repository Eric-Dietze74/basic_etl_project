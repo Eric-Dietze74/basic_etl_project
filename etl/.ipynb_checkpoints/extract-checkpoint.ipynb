{
 "cells": [
  {
   "cell_type": "code",
   "execution_count": 25,
   "id": "4965890a",
   "metadata": {},
   "outputs": [],
   "source": [
    "import extract\n",
    "import transform\n",
    "import pandas as pd\n",
    "from datetime import datetime\n",
    "import sqlite3\n",
    "import logging"
   ]
  },
  {
   "cell_type": "code",
   "execution_count": 26,
   "id": "e11d2b01",
   "metadata": {},
   "outputs": [],
   "source": [
    "logging.basicConfig(\n",
    "    filename='logs/extract.log',\n",
    "    level=logging.INFO,\n",
    "    format='%(asctime)s - %(levelname)s - %(message)s'\n",
    ")"
   ]
  },
  {
   "cell_type": "code",
   "execution_count": 3,
   "id": "59be394e",
   "metadata": {},
   "outputs": [],
   "source": [
    "raw = extract.extract_customers()"
   ]
  },
  {
   "cell_type": "code",
   "execution_count": 10,
   "id": "43235544",
   "metadata": {},
   "outputs": [],
   "source": [
    "big_df, day_month_df, hour_df, location_df = transform.Return_dfs(raw)"
   ]
  },
  {
   "cell_type": "code",
   "execution_count": 20,
   "id": "da579985",
   "metadata": {},
   "outputs": [],
   "source": [
    "df_tuple = transform.Return_dfs(raw)"
   ]
  },
  {
   "cell_type": "code",
   "execution_count": 36,
   "id": "1b2a7283",
   "metadata": {},
   "outputs": [],
   "source": [
    "def load_to_sqlite(df_tuple):\n",
    "    db_list = [\"db/big_df.db\", \"db/day_month_df.db\",\"db/hour_df.db\", \"db/location_df.db\"]\n",
    "    table_names = []\n",
    "    \n",
    "    \n",
    "    if len(df_tuple) != len(db_list) :\n",
    "        logging.error(\"ERROR: db_list and df_tuple aren't the same length\")\n",
    "     \n",
    "    \n",
    "    \n",
    "    for idx in range(len(df_tuple)):\n",
    "        conn = sqlite3.connect(df_list[idx])\n",
    "        name = \n",
    "        df_tuple[idx].to_sql(\"\")"
   ]
  },
  {
   "cell_type": "code",
   "execution_count": 37,
   "id": "168f9edc",
   "metadata": {},
   "outputs": [],
   "source": [
    "db_list = [\"db/big_df.db\", \"db/day_month_df.db\", \"db/hour_df.db\", \"db/location_df.db\"]"
   ]
  },
  {
   "cell_type": "code",
   "execution_count": 38,
   "id": "a4ce37d4",
   "metadata": {},
   "outputs": [],
   "source": [
    "load_to_sqlite(df_tuple)"
   ]
  },
  {
   "cell_type": "code",
   "execution_count": 2,
   "id": "a473f528",
   "metadata": {},
   "outputs": [],
   "source": [
    "db_list = [\"db/big_df.db\", \"db/day_month_df.db\",\"db/hour_df.db\", \"db/location_df.db\"]"
   ]
  },
  {
   "cell_type": "code",
   "execution_count": 3,
   "id": "f02e227a",
   "metadata": {},
   "outputs": [
    {
     "data": {
      "text/plain": [
       "'db/big_df.db'"
      ]
     },
     "execution_count": 3,
     "metadata": {},
     "output_type": "execute_result"
    }
   ],
   "source": [
    "db_list[0]"
   ]
  },
  {
   "cell_type": "code",
   "execution_count": null,
   "id": "2e680ac1",
   "metadata": {},
   "outputs": [],
   "source": []
  }
 ],
 "metadata": {
  "kernelspec": {
   "display_name": "Python 3",
   "language": "python",
   "name": "python3"
  },
  "language_info": {
   "codemirror_mode": {
    "name": "ipython",
    "version": 3
   },
   "file_extension": ".py",
   "mimetype": "text/x-python",
   "name": "python",
   "nbconvert_exporter": "python",
   "pygments_lexer": "ipython3",
   "version": "3.8.5"
  }
 },
 "nbformat": 4,
 "nbformat_minor": 5
}
